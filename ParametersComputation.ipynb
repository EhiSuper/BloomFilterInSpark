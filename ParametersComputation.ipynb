{
 "cells": [
  {
   "cell_type": "markdown",
   "metadata": {},
   "source": [
    "Parameters Calculation"
   ]
  },
  {
   "cell_type": "code",
   "execution_count": 1,
   "metadata": {},
   "outputs": [
    {
     "name": "stderr",
     "output_type": "stream",
     "text": [
      "Setting default log level to \"WARN\".\n",
      "To adjust logging level use sc.setLogLevel(newLevel). For SparkR, use setLogLevel(newLevel).\n"
     ]
    },
    {
     "name": "stdout",
     "output_type": "stream",
     "text": [
      "22/09/26 17:58:11 WARN NativeCodeLoader: Unable to load native-hadoop library for your platform... using builtin-java classes where applicable\n"
     ]
    },
    {
     "name": "stderr",
     "output_type": "stream",
     "text": [
      "                                                                                \r"
     ]
    },
    {
     "data": {
      "text/plain": [
       "[(1, [2484, 23809, 7]),\n",
       " (2, [7699, 73795, 7]),\n",
       " (3, [17035, 163281, 7]),\n",
       " (4, [50907, 487947, 7]),\n",
       " (5, [96854, 928351, 7]),\n",
       " (6, [253265, 2427560, 7]),\n",
       " (7, [349453, 3349527, 7]),\n",
       " (8, [370225, 3548628, 7]),\n",
       " (9, [95158, 912095, 7]),\n",
       " (10, [17737, 170010, 7])]"
      ]
     },
     "execution_count": 1,
     "metadata": {},
     "output_type": "execute_result"
    }
   ],
   "source": [
    "from pyspark.sql import SparkSession\n",
    "from math import log\n",
    "\n",
    "spark = SparkSession.builder.getOrCreate()\n",
    "false_positive_rate = 0.01\n",
    "def getParameters(rating):\n",
    "    \"\"\"Return parameters n,m and k for the Bloom filter construction.\"\"\"\n",
    "    n = len(rating[1])\n",
    "    m = round(-((n*log(false_positive_rate))/(log(2))**2))\n",
    "    k = round((m/n)*log(2))\n",
    "    return rating[0], [n, m, k]\n",
    "\n",
    "df = spark.read.csv('Data/data.tsv', sep=r'\\t', header=True).select('tconst', 'averageRating')\n",
    "\n",
    "rdd = df.rdd\n",
    "rdd.map(lambda x: [round(float(x[1])), x[0]])\\\n",
    ".groupByKey() \\\n",
    ".map(getParameters) \\\n",
    ".sortByKey() \\\n",
    ".collect()\n",
    "\n",
    "\n",
    "\n"
   ]
  }
 ],
 "metadata": {
  "kernelspec": {
   "display_name": "Python 3.10.6 ('pyspark_env')",
   "language": "python",
   "name": "python3"
  },
  "language_info": {
   "codemirror_mode": {
    "name": "ipython",
    "version": 3
   },
   "file_extension": ".py",
   "mimetype": "text/x-python",
   "name": "python",
   "nbconvert_exporter": "python",
   "pygments_lexer": "ipython3",
   "version": "3.10.6"
  },
  "orig_nbformat": 4,
  "vscode": {
   "interpreter": {
    "hash": "b1bdffa846f29feac12278e6a8ba1edffab75fce412c3906544b4e152458b7a9"
   }
  }
 },
 "nbformat": 4,
 "nbformat_minor": 2
}
